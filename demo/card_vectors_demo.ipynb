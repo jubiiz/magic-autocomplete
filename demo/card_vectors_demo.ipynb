{
 "cells": [
  {
   "cell_type": "markdown",
   "source": [
    "# Vectorizer Demo\n",
    "A vectorizer takes the card names as individual tokens and associates a vector to each. The vectors capture the similarities between the cards, meaning that two cards that appear in the same contexts will have similar vectors. "
   ],
   "metadata": {
    "collapsed": false
   },
   "id": "31ec52aa9b756155"
  },
  {
   "cell_type": "markdown",
   "source": [
    "## Setup"
   ],
   "metadata": {
    "collapsed": false
   },
   "id": "65d90639324b6fa9"
  },
  {
   "cell_type": "code",
   "execution_count": 4,
   "outputs": [],
   "source": [
    "from gensim.models import Word2Vec\n",
    "\n",
    "PATH_TO_MODEL = \"../models/w2v/w2v_31_12_2023.model\""
   ],
   "metadata": {
    "collapsed": false,
    "ExecuteTime": {
     "end_time": "2023-12-31T19:28:55.394641193Z",
     "start_time": "2023-12-31T19:28:55.393679723Z"
    }
   },
   "id": "9ff047a3e0cb64f7"
  },
  {
   "cell_type": "markdown",
   "source": [
    "## Loading the Model"
   ],
   "metadata": {
    "collapsed": false
   },
   "id": "11fe8b7802bf0d46"
  },
  {
   "cell_type": "code",
   "execution_count": 5,
   "outputs": [],
   "source": [
    "model = Word2Vec.load(PATH_TO_MODEL).wv"
   ],
   "metadata": {
    "collapsed": false,
    "ExecuteTime": {
     "end_time": "2023-12-31T19:28:56.444653483Z",
     "start_time": "2023-12-31T19:28:56.437571688Z"
    }
   },
   "id": "4eb42226b2c070f4"
  },
  {
   "cell_type": "markdown",
   "source": [
    "## Retrieving a Card Vector\n",
    "Pick any card in `data_dd_mm_yyyy/formatted_unique_cardnames.txt`. "
   ],
   "metadata": {
    "collapsed": false
   },
   "id": "ec12b507092e3774"
  },
  {
   "cell_type": "code",
   "execution_count": 6,
   "id": "initial_id",
   "metadata": {
    "collapsed": true,
    "ExecuteTime": {
     "end_time": "2023-12-31T19:29:02.576528726Z",
     "start_time": "2023-12-31T19:29:02.534737516Z"
    }
   },
   "outputs": [
    {
     "name": "stdout",
     "output_type": "stream",
     "text": [
      "<class 'numpy.ndarray'>\n",
      "[-0.16415462 -1.4038999   1.3926889  -0.7961661   0.03239494 -0.07483782\n",
      " -0.05072785 -0.04055435 -0.75698537 -2.835463    0.06463569  0.23580594\n",
      " -0.12469438 -1.2922423   0.9092529   1.4447279   0.7743496  -0.11919796\n",
      " -0.37097383  2.657344    0.6624662   0.45436427  0.17967547  0.8688422\n",
      " -0.9668397   0.7890354   0.46619955 -1.5883949  -0.57102495 -2.0903823\n",
      " -1.1869262  -0.38605487 -0.48086238 -2.0076632  -0.2463628   0.3910697\n",
      " -0.93797404  0.3990673  -0.39821118 -0.07948884  1.8693169  -2.0908086\n",
      " -0.2886689   0.55488527  2.7052057   1.0215206   0.68822384  0.13846888\n",
      "  0.46431002  0.4218167   0.3882214   0.3775712  -1.0698173   1.5986396\n",
      " -0.49545357 -1.7586021   1.1198151   0.88972545 -0.21959879 -0.5480022\n",
      " -0.15944894  0.16835901  1.826584   -1.1508223 ]\n"
     ]
    }
   ],
   "source": [
    "cardname = \"chord_of_calling\"\n",
    "card_vector = model[cardname]\n",
    "print(type(card_vector))\n",
    "print(card_vector)"
   ]
  },
  {
   "cell_type": "markdown",
   "source": [
    "## Retrieving Most Similar Cards\n",
    "To see cards played in the same decklist, pick a card from a decklist on [https://www.mtggoldfish.com/metagame/modern#paper](https://www.mtggoldfish.com/metagame/modern#paper) \n",
    "Note that similar cards don't necessarily have the same effect: two cards having similar vectors implies they are often used in the same decklist."
   ],
   "metadata": {
    "collapsed": false
   },
   "id": "407ab21a610b25b2"
  },
  {
   "cell_type": "code",
   "execution_count": 7,
   "outputs": [
    {
     "name": "stdout",
     "output_type": "stream",
     "text": [
      "[('wall_of_roots', 0.9982133507728577), ('young_wolf', 0.9971116781234741), ('yawgmoth_thran_physician', 0.9952762126922607), ('twilight_mire', 0.9950255751609802), ('blood_artist', 0.9948866963386536)]\n"
     ]
    }
   ],
   "source": [
    "cardname = \"chord_of_calling\"\n",
    "print(model.most_similar(cardname, topn=5))"
   ],
   "metadata": {
    "collapsed": false,
    "ExecuteTime": {
     "end_time": "2023-12-31T19:32:14.520214006Z",
     "start_time": "2023-12-31T19:32:14.479320819Z"
    }
   },
   "id": "8269c66ba19873f9"
  },
  {
   "cell_type": "markdown",
   "source": [
    "## Retrieving Similarity between Two Cards"
   ],
   "metadata": {
    "collapsed": false
   },
   "id": "698ab8ae030cbe73"
  },
  {
   "cell_type": "code",
   "execution_count": 9,
   "outputs": [
    {
     "name": "stdout",
     "output_type": "stream",
     "text": [
      "0.9952761\n"
     ]
    }
   ],
   "source": [
    "cardname1 = \"chord_of_calling\"\n",
    "cardname2 = \"yawgmoth_thran_physician\"\n",
    "print(model.similarity(cardname1, cardname2))"
   ],
   "metadata": {
    "collapsed": false,
    "ExecuteTime": {
     "end_time": "2023-12-31T19:34:17.811653500Z",
     "start_time": "2023-12-31T19:34:17.809640908Z"
    }
   },
   "id": "fed9089320cadad8"
  }
 ],
 "metadata": {
  "kernelspec": {
   "display_name": "Python 3",
   "language": "python",
   "name": "python3"
  },
  "language_info": {
   "codemirror_mode": {
    "name": "ipython",
    "version": 2
   },
   "file_extension": ".py",
   "mimetype": "text/x-python",
   "name": "python",
   "nbconvert_exporter": "python",
   "pygments_lexer": "ipython2",
   "version": "2.7.6"
  }
 },
 "nbformat": 4,
 "nbformat_minor": 5
}
